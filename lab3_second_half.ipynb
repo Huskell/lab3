{
  "nbformat": 4,
  "nbformat_minor": 0,
  "metadata": {
    "kernelspec": {
      "display_name": "Python 3",
      "language": "python",
      "name": "python3"
    },
    "colab": {
      "name": "lab3_second_half.ipynb",
      "provenance": [],
      "include_colab_link": true
    }
  },
  "cells": [
    {
      "cell_type": "markdown",
      "metadata": {
        "id": "view-in-github",
        "colab_type": "text"
      },
      "source": [
        "<a href=\"https://colab.research.google.com/github/Huskell/lab3/blob/master/lab3_second_half.ipynb\" target=\"_parent\"><img src=\"https://colab.research.google.com/assets/colab-badge.svg\" alt=\"Open In Colab\"/></a>"
      ]
    },
    {
      "cell_type": "code",
      "metadata": {
        "id": "Or1r9Z-7p6ry",
        "colab_type": "code",
        "colab": {}
      },
      "source": [
        "import pandas as pd\n",
        "import numpy as np\n",
        "import matplotlib.pyplot as plt"
      ],
      "execution_count": 0,
      "outputs": []
    },
    {
      "cell_type": "code",
      "metadata": {
        "id": "EAKk5rUYp6sJ",
        "colab_type": "code",
        "colab": {
          "base_uri": "https://localhost:8080/",
          "height": 64
        },
        "outputId": "f4d56fd8-d92b-4d98-ae23-09257edceb5a"
      },
      "source": [
        "from tensorflow.keras import datasets\n",
        "from tensorflow.keras.models import Sequential\n",
        "from tensorflow.keras.layers import Dense, Activation\n",
        "from tensorflow.python.keras.utils import np_utils"
      ],
      "execution_count": 3,
      "outputs": [
        {
          "output_type": "display_data",
          "data": {
            "text/html": [
              "<p style=\"color: red;\">\n",
              "The default version of TensorFlow in Colab will soon switch to TensorFlow 2.x.<br>\n",
              "We recommend you <a href=\"https://www.tensorflow.org/guide/migrate\" target=\"_blank\">upgrade</a> now \n",
              "or ensure your notebook will continue to use TensorFlow 1.x via the <code>%tensorflow_version 1.x</code> magic:\n",
              "<a href=\"https://colab.research.google.com/notebooks/tensorflow_version.ipynb\" target=\"_blank\">more info</a>.</p>\n"
            ],
            "text/plain": [
              "<IPython.core.display.HTML object>"
            ]
          },
          "metadata": {
            "tags": []
          }
        }
      ]
    },
    {
      "cell_type": "code",
      "metadata": {
        "id": "exLqy2yCp6sd",
        "colab_type": "code",
        "colab": {}
      },
      "source": [
        "import pylab\n",
        "from skimage import img_as_float, img_as_ubyte"
      ],
      "execution_count": 0,
      "outputs": []
    },
    {
      "cell_type": "code",
      "metadata": {
        "id": "QJuz5z5Wp6sv",
        "colab_type": "code",
        "colab": {
          "base_uri": "https://localhost:8080/",
          "height": 52
        },
        "outputId": "0bddc7c4-1a7e-475f-de50-d2a1a6740835"
      },
      "source": [
        "#загрузка набора данных рукописных цифр MNIST\n",
        "#(X_train, y_train) - обучающая выборка объектов и ответов,(X_test,y_test) - выборка для теста\n",
        "# x_train = np.load('mnist/x_train.npy')\n",
        "# y_train = np.load('mnist/y_train.npy')\n",
        "# x_test = np.load('mnist/x_test.npy')\n",
        "# y_test = np.load('mnist/y_test.npy')\n",
        "(x_train, y_train), (x_test, y_test) = datasets.mnist.load_data(path='mnist.npz')\n"
      ],
      "execution_count": 5,
      "outputs": [
        {
          "output_type": "stream",
          "text": [
            "Downloading data from https://storage.googleapis.com/tensorflow/tf-keras-datasets/mnist.npz\n",
            "11493376/11490434 [==============================] - 0s 0us/step\n"
          ],
          "name": "stdout"
        }
      ]
    },
    {
      "cell_type": "code",
      "metadata": {
        "id": "FsavTbTap6s9",
        "colab_type": "code",
        "outputId": "88495e16-eb76-4d84-dd68-b0a598b52101",
        "colab": {
          "base_uri": "https://localhost:8080/",
          "height": 52
        }
      },
      "source": [
        "display(x_train.shape)\n",
        "display(y_train.shape)"
      ],
      "execution_count": 6,
      "outputs": [
        {
          "output_type": "display_data",
          "data": {
            "text/plain": [
              "(60000, 28, 28)"
            ]
          },
          "metadata": {
            "tags": []
          }
        },
        {
          "output_type": "display_data",
          "data": {
            "text/plain": [
              "(60000,)"
            ]
          },
          "metadata": {
            "tags": []
          }
        }
      ]
    },
    {
      "cell_type": "code",
      "metadata": {
        "id": "ImGCE3PCp6tO",
        "colab_type": "code",
        "outputId": "d537826d-1474-4972-d40a-6e5bfe244913",
        "colab": {
          "base_uri": "https://localhost:8080/",
          "height": 609
        }
      },
      "source": [
        "pylab.figure(figsize = ([20,10]))\n",
        "pylab.imshow(x_train[5],cmap='gray')\n",
        "print ('Ответ:  {}'.format(y_train[5]))"
      ],
      "execution_count": 7,
      "outputs": [
        {
          "output_type": "stream",
          "text": [
            "Ответ:  2\n"
          ],
          "name": "stdout"
        },
        {
          "output_type": "display_data",
          "data": {
            "image/png": "[encoded data removed]",
            "text/plain": [
              "<Figure size 1440x720 with 1 Axes>"
            ]
          },
          "metadata": {
            "tags": []
          }
        }
      ]
    },
    {
      "cell_type": "code",
      "metadata": {
        "id": "kxT3Mrh3p6ta",
        "colab_type": "code",
        "colab": {}
      },
      "source": [
        "# метод reshape() меняет форму тензора из (60000, 28, 28)\n",
        "# в (60000, 784) для того, чтобы каждое изображение описывалось\n",
        "# 784 признаками - интенсивностями пикселя в градациях серого.\n",
        "# В тестовой выборке 10000 объектов\n",
        "x_train = x_train.reshape(60000,(28*28))  #\n",
        "x_test = x_test.reshape(10000,(28*28))"
      ],
      "execution_count": 0,
      "outputs": []
    },
    {
      "cell_type": "code",
      "metadata": {
        "id": "kPW4LLzLp6tl",
        "colab_type": "code",
        "colab": {}
      },
      "source": [
        "# нормируем все интенсивности на диапазон от 0 до 1\n",
        "# Это необязательный шаг, но так будет лучше (наверное)\n",
        "x_train = np.divide (x_train,255)\n",
        "x_test = np.divide (x_test,255)"
      ],
      "execution_count": 0,
      "outputs": []
    },
    {
      "cell_type": "code",
      "metadata": {
        "id": "WrsuDzS7p6t0",
        "colab_type": "code",
        "colab": {}
      },
      "source": [
        "# преобразование вектора ответов в бинарную матрицу для того,\n",
        "# чтобы каждый нейрон отвечал за свой ответ\n",
        "y_train = np_utils.to_categorical(y_train, 10)\n",
        "y_test = np_utils.to_categorical(y_test, 10)"
      ],
      "execution_count": 0,
      "outputs": []
    },
    {
      "cell_type": "markdown",
      "metadata": {
        "id": "WEB79fXgp6uF",
        "colab_type": "text"
      },
      "source": [
        "## Нейросеть(код Саида)"
      ]
    },
    {
      "cell_type": "code",
      "metadata": {
        "id": "Epn7VRBop6uJ",
        "colab_type": "code",
        "outputId": "8b7861b3-c747-4d24-803a-5708e5ef5fd8",
        "colab": {
          "base_uri": "https://localhost:8080/",
          "height": 332
        }
      },
      "source": [
        "# сборка модели нейронной сети\n",
        "# Sequential() это последовательный метод сборки модели\n",
        "model = Sequential()\n",
        "# добавляем только один слой нейронов\n",
        "# всего 10 нейронов с функцией аквтивации softmax\n",
        "model.add(Dense(392, input_shape = (784,), activation = 'relu'))\n",
        "model.add(Dense(10))\n",
        "model.add(Activation('softmax'))\n",
        "model.summary()"
      ],
      "execution_count": 11,
      "outputs": [
        {
          "output_type": "stream",
          "text": [
            "WARNING:tensorflow:From /usr/local/lib/python3.6/dist-packages/tensorflow_core/python/ops/resource_variable_ops.py:1630: calling BaseResourceVariable.__init__ (from tensorflow.python.ops.resource_variable_ops) with constraint is deprecated and will be removed in a future version.\n",
            "Instructions for updating:\n",
            "If using Keras pass *_constraint arguments to layers.\n",
            "Model: \"sequential\"\n",
            "_________________________________________________________________\n",
            "Layer (type)                 Output Shape              Param #   \n",
            "=================================================================\n",
            "dense (Dense)                (None, 392)               307720    \n",
            "_________________________________________________________________\n",
            "dense_1 (Dense)              (None, 10)                3930      \n",
            "_________________________________________________________________\n",
            "activation (Activation)      (None, 10)                0         \n",
            "=================================================================\n",
            "Total params: 311,650\n",
            "Trainable params: 311,650\n",
            "Non-trainable params: 0\n",
            "_________________________________________________________________\n"
          ],
          "name": "stdout"
        }
      ]
    },
    {
      "cell_type": "code",
      "metadata": {
        "id": "muWfI2itp6uZ",
        "colab_type": "code",
        "colab": {}
      },
      "source": [
        "# компилируем модель, определяя функцию потери loss\n",
        "# выберая оптимизатор adam (он всегда хорошо работает, или почти всегда)\n",
        "# в качестве метрики качества accuracy - доля верных ответов\n",
        "model.compile(loss='categorical_crossentropy',\n",
        "             optimizer = 'adam',\n",
        "             metrics = ['accuracy'])"
      ],
      "execution_count": 0,
      "outputs": []
    },
    {
      "cell_type": "code",
      "metadata": {
        "id": "ZAPHmF7Op6ul",
        "colab_type": "code",
        "colab": {}
      },
      "source": [
        "NB_EPOCH = 20\n",
        "BATCH_SIZE = 128\n",
        "NB_CLASSES = 10\n",
        "N_HIDDEN = 128\n",
        "VALIDATION_SPLIT = 0.2"
      ],
      "execution_count": 0,
      "outputs": []
    },
    {
      "cell_type": "code",
      "metadata": {
        "id": "56rriOK8p6uu",
        "colab_type": "code",
        "outputId": "684168c9-90a5-491d-e22f-e944a68a2971",
        "colab": {
          "base_uri": "https://localhost:8080/",
          "height": 729
        }
      },
      "source": [
        "# запускаем обучение\n",
        "# epoch - это число прогонов данных через модель\n",
        "# batch_size размер пакета данных\n",
        "history = model.fit(x_train, y_train, batch_size = BATCH_SIZE,\n",
        "                   epochs = NB_EPOCH, verbose = 1,\n",
        "                   validation_split = VALIDATION_SPLIT)"
      ],
      "execution_count": 14,
      "outputs": [
        {
          "output_type": "stream",
          "text": [
            "Train on 48000 samples, validate on 12000 samples\n",
            "Epoch 1/20\n",
            "48000/48000 [==============================] - 3s 57us/sample - loss: 0.3180 - acc: 0.9114 - val_loss: 0.1686 - val_acc: 0.9530\n",
            "Epoch 2/20\n",
            "48000/48000 [==============================] - 2s 48us/sample - loss: 0.1324 - acc: 0.9622 - val_loss: 0.1260 - val_acc: 0.9654\n",
            "Epoch 3/20\n",
            "48000/48000 [==============================] - 2s 49us/sample - loss: 0.0886 - acc: 0.9743 - val_loss: 0.0999 - val_acc: 0.9692\n",
            "Epoch 4/20\n",
            "48000/48000 [==============================] - 2s 50us/sample - loss: 0.0652 - acc: 0.9812 - val_loss: 0.0861 - val_acc: 0.9754\n",
            "Epoch 5/20\n",
            "48000/48000 [==============================] - 2s 50us/sample - loss: 0.0479 - acc: 0.9864 - val_loss: 0.0824 - val_acc: 0.9743\n",
            "Epoch 6/20\n",
            "48000/48000 [==============================] - 2s 49us/sample - loss: 0.0360 - acc: 0.9901 - val_loss: 0.0767 - val_acc: 0.9759\n",
            "Epoch 7/20\n",
            "48000/48000 [==============================] - 2s 49us/sample - loss: 0.0277 - acc: 0.9927 - val_loss: 0.0814 - val_acc: 0.9750\n",
            "Epoch 8/20\n",
            "48000/48000 [==============================] - 2s 50us/sample - loss: 0.0219 - acc: 0.9945 - val_loss: 0.0763 - val_acc: 0.9768\n",
            "Epoch 9/20\n",
            "48000/48000 [==============================] - 2s 50us/sample - loss: 0.0158 - acc: 0.9965 - val_loss: 0.0752 - val_acc: 0.9770\n",
            "Epoch 10/20\n",
            "48000/48000 [==============================] - 2s 50us/sample - loss: 0.0119 - acc: 0.9977 - val_loss: 0.0733 - val_acc: 0.9787\n",
            "Epoch 11/20\n",
            "48000/48000 [==============================] - 2s 50us/sample - loss: 0.0088 - acc: 0.9988 - val_loss: 0.0814 - val_acc: 0.9781\n",
            "Epoch 12/20\n",
            "48000/48000 [==============================] - 2s 49us/sample - loss: 0.0074 - acc: 0.9990 - val_loss: 0.0777 - val_acc: 0.9789\n",
            "Epoch 13/20\n",
            "48000/48000 [==============================] - 2s 49us/sample - loss: 0.0053 - acc: 0.9993 - val_loss: 0.0874 - val_acc: 0.9777\n",
            "Epoch 14/20\n",
            "48000/48000 [==============================] - 2s 50us/sample - loss: 0.0070 - acc: 0.9985 - val_loss: 0.0789 - val_acc: 0.9785\n",
            "Epoch 15/20\n",
            "48000/48000 [==============================] - 2s 52us/sample - loss: 0.0050 - acc: 0.9991 - val_loss: 0.0886 - val_acc: 0.9784\n",
            "Epoch 16/20\n",
            "48000/48000 [==============================] - 2s 49us/sample - loss: 0.0072 - acc: 0.9982 - val_loss: 0.0951 - val_acc: 0.9760\n",
            "Epoch 17/20\n",
            "48000/48000 [==============================] - 2s 50us/sample - loss: 0.0065 - acc: 0.9983 - val_loss: 0.0952 - val_acc: 0.9773\n",
            "Epoch 18/20\n",
            "48000/48000 [==============================] - 2s 49us/sample - loss: 0.0049 - acc: 0.9989 - val_loss: 0.0996 - val_acc: 0.9757\n",
            "Epoch 19/20\n",
            "48000/48000 [==============================] - 2s 50us/sample - loss: 0.0028 - acc: 0.9997 - val_loss: 0.0823 - val_acc: 0.9804\n",
            "Epoch 20/20\n",
            "48000/48000 [==============================] - 2s 49us/sample - loss: 8.1328e-04 - acc: 1.0000 - val_loss: 0.0865 - val_acc: 0.9803\n"
          ],
          "name": "stdout"
        }
      ]
    },
    {
      "cell_type": "code",
      "metadata": {
        "id": "9HoO1sPMp6u3",
        "colab_type": "code",
        "outputId": "3ca940ad-774f-449e-a35d-cd421e707dbb",
        "colab": {
          "base_uri": "https://localhost:8080/",
          "height": 621
        }
      },
      "source": [
        "# Plot training & validation accuracy values\n",
        "plt.figure(figsize=[20,10])\n",
        "plt.grid('on')\n",
        "plt.plot(history.history['acc'])\n",
        "plt.plot(history.history['val_acc'])\n",
        "plt.title('Model accuracy')\n",
        "plt.ylabel('Accuracy')\n",
        "plt.xlabel('Epoch')\n",
        "plt.legend(['Train', 'Test'], loc='upper left')\n",
        "plt.show()"
      ],
      "execution_count": 15,
      "outputs": [
        {
          "output_type": "display_data",
          "data": {
            "image/png": "[encoded data removed]",
            "text/plain": [
              "<Figure size 1440x720 with 1 Axes>"
            ]
          },
          "metadata": {
            "tags": []
          }
        }
      ]
    },
    {
      "cell_type": "markdown",
      "metadata": {
        "id": "K_Us3t6wp6u_",
        "colab_type": "text"
      },
      "source": [
        "## Градиентный бустинг\n"
      ]
    },
    {
      "cell_type": "code",
      "metadata": {
        "id": "cywHhvjhp6vB",
        "colab_type": "code",
        "colab": {}
      },
      "source": [
        "from sklearn.ensemble import GradientBoostingClassifier"
      ],
      "execution_count": 0,
      "outputs": []
    },
    {
      "cell_type": "code",
      "metadata": {
        "id": "I3TLCipZp6vL",
        "colab_type": "code",
        "colab": {}
      },
      "source": [
        "# x_train = np.load('mnist/x_train.npy')\n",
        "# y_train = np.load('mnist/y_train.npy')\n",
        "# x_test = np.load('mnist/x_test.npy')\n",
        "# y_test = np.load('mnist/y_test.npy')\n",
        "\n",
        "(x_train, y_train), (x_test, y_test) = datasets.mnist.load_data(path='mnist.npz')\n",
        "x_train = x_train.reshape(60000,(28*28))  #\n",
        "x_test = x_test.reshape(10000,(28*28))"
      ],
      "execution_count": 0,
      "outputs": []
    },
    {
      "cell_type": "code",
      "metadata": {
        "id": "SCVyKuCxp6vS",
        "colab_type": "code",
        "colab": {}
      },
      "source": [
        "def _cross_entropy_like_loss(model, input_data, targets, num_estimators):\n",
        "    loss = np.zeros((num_estimators, 1))\n",
        "    for index, predict in enumerate(model.staged_predict(input_data)):\n",
        "        loss[index, :] = -np.sum(np.log([predict[sample_num, class_num-1] for sample_num, class_num in enumerate(targets)])) \n",
        "        print(f'ce loss {index}:{loss[index, :]}')\n",
        "    return loss"
      ],
      "execution_count": 0,
      "outputs": []
    },
    {
      "cell_type": "code",
      "metadata": {
        "id": "63ESR2ECp6vc",
        "colab_type": "code",
        "outputId": "878c6d02-989b-4041-c56b-232126419cc3",
        "colab": {
          "base_uri": "https://localhost:8080/",
          "height": 52
        }
      },
      "source": [
        "print(x_train.shape)\n",
        "print(y_train.shape)\n",
        "\n",
        "# print((x_train[:1000]))"
      ],
      "execution_count": 19,
      "outputs": [
        {
          "output_type": "stream",
          "text": [
            "(60000, 784)\n",
            "(60000,)\n"
          ],
          "name": "stdout"
        }
      ]
    },
    {
      "cell_type": "code",
      "metadata": {
        "scrolled": true,
        "id": "XoUBS1CZp6vn",
        "colab_type": "code",
        "outputId": "6ed7985e-ac31-4ab2-fb93-4d72d02d0d20",
        "colab": {
          "base_uri": "https://localhost:8080/",
          "height": 34
        }
      },
      "source": [
        "score_gbc = []\n",
        "score_gbc2 = []\n",
        "accuracy_gb = [1, 0.5, 0.3, 0.2, 0.1]\n",
        "for i in accuracy_gb:\n",
        "  gbc = GradientBoostingClassifier(learning_rate = i, n_estimators=100)\n",
        "  gbc.fit(x_train, y_train)\n",
        "  score_gbc.append(gbc.score(x_test, y_test))\n",
        "display(score_gbc)"
      ],
      "execution_count": 20,
      "outputs": [
        {
          "output_type": "display_data",
          "data": {
            "text/plain": [
              "[0.9184, 0.9552, 0.9597, 0.9578, 0.9459]"
            ]
          },
          "metadata": {
            "tags": []
          }
        }
      ]
    },
    {
      "cell_type": "code",
      "metadata": {
        "id": "GPt9hDLNp6vv",
        "colab_type": "code",
        "colab": {
          "base_uri": "https://localhost:8080/",
          "height": 282
        },
        "outputId": "95ead8fa-57bf-4af2-e8f4-30aadf60917a"
      },
      "source": [
        "# %matplotlib notebook\n",
        "%matplotlib inline\n",
        "plt.plot(accuracy_gb,score_gbc)"
      ],
      "execution_count": 21,
      "outputs": [
        {
          "output_type": "execute_result",
          "data": {
            "text/plain": [
              "[<matplotlib.lines.Line2D at 0x7f4bcb460860>]"
            ]
          },
          "metadata": {
            "tags": []
          },
          "execution_count": 21
        },
        {
          "output_type": "display_data",
          "data": {
            "image/png": "[encoded data removed]",
            "text/plain": [
              "<Figure size 432x288 with 1 Axes>"
            ]
          },
          "metadata": {
            "tags": []
          }
        }
      ]
    },
    {
      "cell_type": "code",
      "metadata": {
        "id": "Hsdsco59elxC",
        "colab_type": "code",
        "colab": {}
      },
      "source": [
        ""
      ],
      "execution_count": 0,
      "outputs": []
    }
  ]
}